{
 "cells": [
  {
   "cell_type": "markdown",
   "id": "4ef8d95d",
   "metadata": {},
   "source": [
    "# GRIP June 21 Batch - Data Science and Business Analytics Internship"
   ]
  },
  {
   "cell_type": "markdown",
   "id": "0fac9a36",
   "metadata": {},
   "source": [
    "<b> Author: Merlin <b/>"
   ]
  },
  {
   "cell_type": "markdown",
   "id": "9adac258",
   "metadata": {},
   "source": [
    "# Task 4: ‘Exploratory Data Analysis’ on dataset ‘Global Terrorism’"
   ]
  },
  {
   "cell_type": "code",
   "execution_count": 1,
   "id": "53a18ffe",
   "metadata": {},
   "outputs": [],
   "source": [
    "#importing required libraries \n",
    "import pandas as pd\n",
    "import numpy as np"
   ]
  },
  {
   "cell_type": "code",
   "execution_count": 2,
   "id": "eb307a5a",
   "metadata": {},
   "outputs": [
    {
     "name": "stderr",
     "output_type": "stream",
     "text": [
      "C:\\Users\\merlin\\anaconda3\\lib\\site-packages\\IPython\\core\\interactiveshell.py:3165: DtypeWarning: Columns (4,6,31,33,61,62,63,76,79,90,92,94,96,114,115,121) have mixed types.Specify dtype option on import or set low_memory=False.\n",
      "  has_raised = await self.run_ast_nodes(code_ast.body, cell_name,\n"
     ]
    }
   ],
   "source": [
    "#to load the dataset \n",
    "data=pd.read_csv(r'C:\\Users\\merlin\\Downloads\\globalterrorismdb_0718dist.csv', encoding='latin1')"
   ]
  },
  {
   "cell_type": "code",
   "execution_count": 3,
   "id": "818de7db",
   "metadata": {},
   "outputs": [
    {
     "data": {
      "text/html": [
       "<div>\n",
       "<style scoped>\n",
       "    .dataframe tbody tr th:only-of-type {\n",
       "        vertical-align: middle;\n",
       "    }\n",
       "\n",
       "    .dataframe tbody tr th {\n",
       "        vertical-align: top;\n",
       "    }\n",
       "\n",
       "    .dataframe thead th {\n",
       "        text-align: right;\n",
       "    }\n",
       "</style>\n",
       "<table border=\"1\" class=\"dataframe\">\n",
       "  <thead>\n",
       "    <tr style=\"text-align: right;\">\n",
       "      <th></th>\n",
       "      <th>eventid</th>\n",
       "      <th>iyear</th>\n",
       "      <th>imonth</th>\n",
       "      <th>iday</th>\n",
       "      <th>approxdate</th>\n",
       "      <th>extended</th>\n",
       "      <th>resolution</th>\n",
       "      <th>country</th>\n",
       "      <th>country_txt</th>\n",
       "      <th>region</th>\n",
       "      <th>...</th>\n",
       "      <th>addnotes</th>\n",
       "      <th>scite1</th>\n",
       "      <th>scite2</th>\n",
       "      <th>scite3</th>\n",
       "      <th>dbsource</th>\n",
       "      <th>INT_LOG</th>\n",
       "      <th>INT_IDEO</th>\n",
       "      <th>INT_MISC</th>\n",
       "      <th>INT_ANY</th>\n",
       "      <th>related</th>\n",
       "    </tr>\n",
       "  </thead>\n",
       "  <tbody>\n",
       "    <tr>\n",
       "      <th>0</th>\n",
       "      <td>197000000001</td>\n",
       "      <td>1970</td>\n",
       "      <td>7</td>\n",
       "      <td>2</td>\n",
       "      <td>NaN</td>\n",
       "      <td>0</td>\n",
       "      <td>NaN</td>\n",
       "      <td>58</td>\n",
       "      <td>Dominican Republic</td>\n",
       "      <td>2</td>\n",
       "      <td>...</td>\n",
       "      <td>NaN</td>\n",
       "      <td>NaN</td>\n",
       "      <td>NaN</td>\n",
       "      <td>NaN</td>\n",
       "      <td>PGIS</td>\n",
       "      <td>0</td>\n",
       "      <td>0</td>\n",
       "      <td>0</td>\n",
       "      <td>0</td>\n",
       "      <td>NaN</td>\n",
       "    </tr>\n",
       "    <tr>\n",
       "      <th>1</th>\n",
       "      <td>197000000002</td>\n",
       "      <td>1970</td>\n",
       "      <td>0</td>\n",
       "      <td>0</td>\n",
       "      <td>NaN</td>\n",
       "      <td>0</td>\n",
       "      <td>NaN</td>\n",
       "      <td>130</td>\n",
       "      <td>Mexico</td>\n",
       "      <td>1</td>\n",
       "      <td>...</td>\n",
       "      <td>NaN</td>\n",
       "      <td>NaN</td>\n",
       "      <td>NaN</td>\n",
       "      <td>NaN</td>\n",
       "      <td>PGIS</td>\n",
       "      <td>0</td>\n",
       "      <td>1</td>\n",
       "      <td>1</td>\n",
       "      <td>1</td>\n",
       "      <td>NaN</td>\n",
       "    </tr>\n",
       "    <tr>\n",
       "      <th>2</th>\n",
       "      <td>197001000001</td>\n",
       "      <td>1970</td>\n",
       "      <td>1</td>\n",
       "      <td>0</td>\n",
       "      <td>NaN</td>\n",
       "      <td>0</td>\n",
       "      <td>NaN</td>\n",
       "      <td>160</td>\n",
       "      <td>Philippines</td>\n",
       "      <td>5</td>\n",
       "      <td>...</td>\n",
       "      <td>NaN</td>\n",
       "      <td>NaN</td>\n",
       "      <td>NaN</td>\n",
       "      <td>NaN</td>\n",
       "      <td>PGIS</td>\n",
       "      <td>-9</td>\n",
       "      <td>-9</td>\n",
       "      <td>1</td>\n",
       "      <td>1</td>\n",
       "      <td>NaN</td>\n",
       "    </tr>\n",
       "    <tr>\n",
       "      <th>3</th>\n",
       "      <td>197001000002</td>\n",
       "      <td>1970</td>\n",
       "      <td>1</td>\n",
       "      <td>0</td>\n",
       "      <td>NaN</td>\n",
       "      <td>0</td>\n",
       "      <td>NaN</td>\n",
       "      <td>78</td>\n",
       "      <td>Greece</td>\n",
       "      <td>8</td>\n",
       "      <td>...</td>\n",
       "      <td>NaN</td>\n",
       "      <td>NaN</td>\n",
       "      <td>NaN</td>\n",
       "      <td>NaN</td>\n",
       "      <td>PGIS</td>\n",
       "      <td>-9</td>\n",
       "      <td>-9</td>\n",
       "      <td>1</td>\n",
       "      <td>1</td>\n",
       "      <td>NaN</td>\n",
       "    </tr>\n",
       "    <tr>\n",
       "      <th>4</th>\n",
       "      <td>197001000003</td>\n",
       "      <td>1970</td>\n",
       "      <td>1</td>\n",
       "      <td>0</td>\n",
       "      <td>NaN</td>\n",
       "      <td>0</td>\n",
       "      <td>NaN</td>\n",
       "      <td>101</td>\n",
       "      <td>Japan</td>\n",
       "      <td>4</td>\n",
       "      <td>...</td>\n",
       "      <td>NaN</td>\n",
       "      <td>NaN</td>\n",
       "      <td>NaN</td>\n",
       "      <td>NaN</td>\n",
       "      <td>PGIS</td>\n",
       "      <td>-9</td>\n",
       "      <td>-9</td>\n",
       "      <td>1</td>\n",
       "      <td>1</td>\n",
       "      <td>NaN</td>\n",
       "    </tr>\n",
       "  </tbody>\n",
       "</table>\n",
       "<p>5 rows × 135 columns</p>\n",
       "</div>"
      ],
      "text/plain": [
       "        eventid  iyear  imonth  iday approxdate  extended resolution  country  \\\n",
       "0  197000000001   1970       7     2        NaN         0        NaN       58   \n",
       "1  197000000002   1970       0     0        NaN         0        NaN      130   \n",
       "2  197001000001   1970       1     0        NaN         0        NaN      160   \n",
       "3  197001000002   1970       1     0        NaN         0        NaN       78   \n",
       "4  197001000003   1970       1     0        NaN         0        NaN      101   \n",
       "\n",
       "          country_txt  region  ... addnotes scite1 scite2  scite3  dbsource  \\\n",
       "0  Dominican Republic       2  ...      NaN    NaN    NaN     NaN      PGIS   \n",
       "1              Mexico       1  ...      NaN    NaN    NaN     NaN      PGIS   \n",
       "2         Philippines       5  ...      NaN    NaN    NaN     NaN      PGIS   \n",
       "3              Greece       8  ...      NaN    NaN    NaN     NaN      PGIS   \n",
       "4               Japan       4  ...      NaN    NaN    NaN     NaN      PGIS   \n",
       "\n",
       "   INT_LOG  INT_IDEO INT_MISC INT_ANY  related  \n",
       "0        0         0        0       0      NaN  \n",
       "1        0         1        1       1      NaN  \n",
       "2       -9        -9        1       1      NaN  \n",
       "3       -9        -9        1       1      NaN  \n",
       "4       -9        -9        1       1      NaN  \n",
       "\n",
       "[5 rows x 135 columns]"
      ]
     },
     "execution_count": 3,
     "metadata": {},
     "output_type": "execute_result"
    }
   ],
   "source": [
    "#first 5 observations \n",
    "data.head()"
   ]
  },
  {
   "cell_type": "code",
   "execution_count": 4,
   "id": "0456f75c",
   "metadata": {},
   "outputs": [
    {
     "data": {
      "text/plain": [
       "(181691, 135)"
      ]
     },
     "execution_count": 4,
     "metadata": {},
     "output_type": "execute_result"
    }
   ],
   "source": [
    "#dimensions of the datasets \n",
    "data.shape"
   ]
  },
  {
   "cell_type": "code",
   "execution_count": 6,
   "id": "f2be12d0",
   "metadata": {},
   "outputs": [
    {
     "data": {
      "text/plain": [
       "['approxdate',\n",
       " 'resolution',\n",
       " 'alternative',\n",
       " 'alternative_txt',\n",
       " 'attacktype2',\n",
       " 'attacktype2_txt',\n",
       " 'attacktype3',\n",
       " 'attacktype3_txt',\n",
       " 'targtype2',\n",
       " 'targtype2_txt',\n",
       " 'targsubtype2',\n",
       " 'targsubtype2_txt',\n",
       " 'corp2',\n",
       " 'target2',\n",
       " 'natlty2',\n",
       " 'natlty2_txt',\n",
       " 'targtype3',\n",
       " 'targtype3_txt',\n",
       " 'targsubtype3',\n",
       " 'targsubtype3_txt',\n",
       " 'corp3',\n",
       " 'target3',\n",
       " 'natlty3',\n",
       " 'natlty3_txt',\n",
       " 'gsubname',\n",
       " 'gname2',\n",
       " 'gsubname2',\n",
       " 'gname3',\n",
       " 'gsubname3',\n",
       " 'motive',\n",
       " 'guncertain2',\n",
       " 'guncertain3',\n",
       " 'claimmode',\n",
       " 'claimmode_txt',\n",
       " 'claim2',\n",
       " 'claimmode2',\n",
       " 'claimmode2_txt',\n",
       " 'claim3',\n",
       " 'claimmode3',\n",
       " 'claimmode3_txt',\n",
       " 'compclaim',\n",
       " 'weaptype2',\n",
       " 'weaptype2_txt',\n",
       " 'weapsubtype2',\n",
       " 'weapsubtype2_txt',\n",
       " 'weaptype3',\n",
       " 'weaptype3_txt',\n",
       " 'weapsubtype3',\n",
       " 'weapsubtype3_txt',\n",
       " 'weaptype4',\n",
       " 'weaptype4_txt',\n",
       " 'weapsubtype4',\n",
       " 'weapsubtype4_txt',\n",
       " 'propvalue',\n",
       " 'nhostkid',\n",
       " 'nhostkidus',\n",
       " 'nhours',\n",
       " 'ndays',\n",
       " 'divert',\n",
       " 'kidhijcountry',\n",
       " 'ransomamt',\n",
       " 'ransomamtus',\n",
       " 'ransompaid',\n",
       " 'ransompaidus',\n",
       " 'ransomnote',\n",
       " 'hostkidoutcome',\n",
       " 'hostkidoutcome_txt',\n",
       " 'nreleased',\n",
       " 'addnotes',\n",
       " 'scite3',\n",
       " 'related']"
      ]
     },
     "execution_count": 6,
     "metadata": {},
     "output_type": "execute_result"
    }
   ],
   "source": [
    "#removing columns having msissing values greater than 70%\n",
    "col=[]\n",
    "for i in data.columns:\n",
    "    if(data[i].isna().sum()>127184):\n",
    "        col.append(i)\n",
    "col"
   ]
  },
  {
   "cell_type": "code",
   "execution_count": 7,
   "id": "9c22c555",
   "metadata": {},
   "outputs": [],
   "source": [
    "#dropping the above columns \n",
    "data.drop(columns=col,inplace=True)"
   ]
  },
  {
   "cell_type": "code",
   "execution_count": 8,
   "id": "54813dda",
   "metadata": {},
   "outputs": [
    {
     "data": {
      "text/plain": [
       "(181691, 64)"
      ]
     },
     "execution_count": 8,
     "metadata": {},
     "output_type": "execute_result"
    }
   ],
   "source": [
    "#dimensions of the datasets after dropping the columns \n",
    "data.shape"
   ]
  },
  {
   "cell_type": "code",
   "execution_count": 9,
   "id": "971f9008",
   "metadata": {},
   "outputs": [],
   "source": [
    "#selecting the required features \n",
    "data=data[['eventid', 'iyear', 'imonth', 'iday', 'extended', 'country_txt', 'region_txt', 'city', \n",
    "                        'latitude', 'longitude', 'specificity', 'summary', 'success', 'suicide', 'attacktype1_txt', \n",
    "                        'targtype1_txt', 'target1', 'natlty1_txt', 'gname' , 'nperps', \n",
    "                        'weaptype1_txt', 'nkill', 'nkillter', 'nwound', 'nwoundte', 'ishostkid', ]]"
   ]
  },
  {
   "cell_type": "code",
   "execution_count": 10,
   "id": "f86483a6",
   "metadata": {},
   "outputs": [],
   "source": [
    "#changing the name of the columns \n",
    "data.rename(columns={'eventid': 'id', 'iyear': 'year','imonth': 'month','iday':'day','country_txt':'country','region_txt':'region',\n",
    "                         'attacktype1_txt':'attacktype','targetype1_txt':'targetype','natlty1_txt':'natlty','weaptype1_txt':'weaptype',\n",
    "                    'nwound':'wound','nkill':'kill'},\n",
    "                         inplace=True)"
   ]
  },
  {
   "cell_type": "code",
   "execution_count": 11,
   "id": "1803ea94",
   "metadata": {},
   "outputs": [
    {
     "data": {
      "text/html": [
       "<div>\n",
       "<style scoped>\n",
       "    .dataframe tbody tr th:only-of-type {\n",
       "        vertical-align: middle;\n",
       "    }\n",
       "\n",
       "    .dataframe tbody tr th {\n",
       "        vertical-align: top;\n",
       "    }\n",
       "\n",
       "    .dataframe thead th {\n",
       "        text-align: right;\n",
       "    }\n",
       "</style>\n",
       "<table border=\"1\" class=\"dataframe\">\n",
       "  <thead>\n",
       "    <tr style=\"text-align: right;\">\n",
       "      <th></th>\n",
       "      <th>id</th>\n",
       "      <th>year</th>\n",
       "      <th>month</th>\n",
       "      <th>day</th>\n",
       "      <th>extended</th>\n",
       "      <th>country</th>\n",
       "      <th>region</th>\n",
       "      <th>city</th>\n",
       "      <th>latitude</th>\n",
       "      <th>longitude</th>\n",
       "      <th>...</th>\n",
       "      <th>target1</th>\n",
       "      <th>natlty</th>\n",
       "      <th>gname</th>\n",
       "      <th>nperps</th>\n",
       "      <th>weaptype</th>\n",
       "      <th>kill</th>\n",
       "      <th>nkillter</th>\n",
       "      <th>wound</th>\n",
       "      <th>nwoundte</th>\n",
       "      <th>ishostkid</th>\n",
       "    </tr>\n",
       "  </thead>\n",
       "  <tbody>\n",
       "    <tr>\n",
       "      <th>0</th>\n",
       "      <td>197000000001</td>\n",
       "      <td>1970</td>\n",
       "      <td>7</td>\n",
       "      <td>2</td>\n",
       "      <td>0</td>\n",
       "      <td>Dominican Republic</td>\n",
       "      <td>Central America &amp; Caribbean</td>\n",
       "      <td>Santo Domingo</td>\n",
       "      <td>18.456792</td>\n",
       "      <td>-69.951164</td>\n",
       "      <td>...</td>\n",
       "      <td>Julio Guzman</td>\n",
       "      <td>Dominican Republic</td>\n",
       "      <td>MANO-D</td>\n",
       "      <td>NaN</td>\n",
       "      <td>Unknown</td>\n",
       "      <td>1.0</td>\n",
       "      <td>NaN</td>\n",
       "      <td>0.0</td>\n",
       "      <td>NaN</td>\n",
       "      <td>0.0</td>\n",
       "    </tr>\n",
       "    <tr>\n",
       "      <th>1</th>\n",
       "      <td>197000000002</td>\n",
       "      <td>1970</td>\n",
       "      <td>0</td>\n",
       "      <td>0</td>\n",
       "      <td>0</td>\n",
       "      <td>Mexico</td>\n",
       "      <td>North America</td>\n",
       "      <td>Mexico city</td>\n",
       "      <td>19.371887</td>\n",
       "      <td>-99.086624</td>\n",
       "      <td>...</td>\n",
       "      <td>Nadine Chaval, daughter</td>\n",
       "      <td>Belgium</td>\n",
       "      <td>23rd of September Communist League</td>\n",
       "      <td>7.0</td>\n",
       "      <td>Unknown</td>\n",
       "      <td>0.0</td>\n",
       "      <td>NaN</td>\n",
       "      <td>0.0</td>\n",
       "      <td>NaN</td>\n",
       "      <td>1.0</td>\n",
       "    </tr>\n",
       "    <tr>\n",
       "      <th>2</th>\n",
       "      <td>197001000001</td>\n",
       "      <td>1970</td>\n",
       "      <td>1</td>\n",
       "      <td>0</td>\n",
       "      <td>0</td>\n",
       "      <td>Philippines</td>\n",
       "      <td>Southeast Asia</td>\n",
       "      <td>Unknown</td>\n",
       "      <td>15.478598</td>\n",
       "      <td>120.599741</td>\n",
       "      <td>...</td>\n",
       "      <td>Employee</td>\n",
       "      <td>United States</td>\n",
       "      <td>Unknown</td>\n",
       "      <td>NaN</td>\n",
       "      <td>Unknown</td>\n",
       "      <td>1.0</td>\n",
       "      <td>NaN</td>\n",
       "      <td>0.0</td>\n",
       "      <td>NaN</td>\n",
       "      <td>0.0</td>\n",
       "    </tr>\n",
       "    <tr>\n",
       "      <th>3</th>\n",
       "      <td>197001000002</td>\n",
       "      <td>1970</td>\n",
       "      <td>1</td>\n",
       "      <td>0</td>\n",
       "      <td>0</td>\n",
       "      <td>Greece</td>\n",
       "      <td>Western Europe</td>\n",
       "      <td>Athens</td>\n",
       "      <td>37.997490</td>\n",
       "      <td>23.762728</td>\n",
       "      <td>...</td>\n",
       "      <td>U.S. Embassy</td>\n",
       "      <td>United States</td>\n",
       "      <td>Unknown</td>\n",
       "      <td>NaN</td>\n",
       "      <td>Explosives</td>\n",
       "      <td>NaN</td>\n",
       "      <td>NaN</td>\n",
       "      <td>NaN</td>\n",
       "      <td>NaN</td>\n",
       "      <td>0.0</td>\n",
       "    </tr>\n",
       "    <tr>\n",
       "      <th>4</th>\n",
       "      <td>197001000003</td>\n",
       "      <td>1970</td>\n",
       "      <td>1</td>\n",
       "      <td>0</td>\n",
       "      <td>0</td>\n",
       "      <td>Japan</td>\n",
       "      <td>East Asia</td>\n",
       "      <td>Fukouka</td>\n",
       "      <td>33.580412</td>\n",
       "      <td>130.396361</td>\n",
       "      <td>...</td>\n",
       "      <td>U.S. Consulate</td>\n",
       "      <td>United States</td>\n",
       "      <td>Unknown</td>\n",
       "      <td>NaN</td>\n",
       "      <td>Incendiary</td>\n",
       "      <td>NaN</td>\n",
       "      <td>NaN</td>\n",
       "      <td>NaN</td>\n",
       "      <td>NaN</td>\n",
       "      <td>0.0</td>\n",
       "    </tr>\n",
       "  </tbody>\n",
       "</table>\n",
       "<p>5 rows × 26 columns</p>\n",
       "</div>"
      ],
      "text/plain": [
       "             id  year  month  day  extended             country  \\\n",
       "0  197000000001  1970      7    2         0  Dominican Republic   \n",
       "1  197000000002  1970      0    0         0              Mexico   \n",
       "2  197001000001  1970      1    0         0         Philippines   \n",
       "3  197001000002  1970      1    0         0              Greece   \n",
       "4  197001000003  1970      1    0         0               Japan   \n",
       "\n",
       "                        region           city   latitude   longitude  ...  \\\n",
       "0  Central America & Caribbean  Santo Domingo  18.456792  -69.951164  ...   \n",
       "1                North America    Mexico city  19.371887  -99.086624  ...   \n",
       "2               Southeast Asia        Unknown  15.478598  120.599741  ...   \n",
       "3               Western Europe         Athens  37.997490   23.762728  ...   \n",
       "4                    East Asia        Fukouka  33.580412  130.396361  ...   \n",
       "\n",
       "                   target1              natlty  \\\n",
       "0             Julio Guzman  Dominican Republic   \n",
       "1  Nadine Chaval, daughter             Belgium   \n",
       "2                 Employee       United States   \n",
       "3             U.S. Embassy       United States   \n",
       "4           U.S. Consulate       United States   \n",
       "\n",
       "                                gname  nperps    weaptype kill nkillter wound  \\\n",
       "0                              MANO-D     NaN     Unknown  1.0      NaN   0.0   \n",
       "1  23rd of September Communist League     7.0     Unknown  0.0      NaN   0.0   \n",
       "2                             Unknown     NaN     Unknown  1.0      NaN   0.0   \n",
       "3                             Unknown     NaN  Explosives  NaN      NaN   NaN   \n",
       "4                             Unknown     NaN  Incendiary  NaN      NaN   NaN   \n",
       "\n",
       "  nwoundte  ishostkid  \n",
       "0      NaN        0.0  \n",
       "1      NaN        1.0  \n",
       "2      NaN        0.0  \n",
       "3      NaN        0.0  \n",
       "4      NaN        0.0  \n",
       "\n",
       "[5 rows x 26 columns]"
      ]
     },
     "execution_count": 11,
     "metadata": {},
     "output_type": "execute_result"
    }
   ],
   "source": [
    "#first 5 observations \n",
    "data.head()"
   ]
  },
  {
   "cell_type": "code",
   "execution_count": 13,
   "id": "bc5b1f91",
   "metadata": {},
   "outputs": [
    {
     "data": {
      "text/plain": [
       "id                   0\n",
       "year                 0\n",
       "month                0\n",
       "day                  0\n",
       "extended             0\n",
       "country              0\n",
       "region               0\n",
       "city               434\n",
       "latitude          4556\n",
       "longitude         4557\n",
       "specificity          6\n",
       "summary          66129\n",
       "success              0\n",
       "suicide              0\n",
       "attacktype           0\n",
       "targtype1_txt        0\n",
       "target1            636\n",
       "natlty            1559\n",
       "gname                0\n",
       "nperps           71115\n",
       "weaptype             0\n",
       "kill             10313\n",
       "nkillter         66958\n",
       "wound            16311\n",
       "nwoundte         69143\n",
       "ishostkid          178\n",
       "dtype: int64"
      ]
     },
     "execution_count": 13,
     "metadata": {},
     "output_type": "execute_result"
    }
   ],
   "source": [
    "#checking for null values \n",
    "data.isna().sum()"
   ]
  },
  {
   "cell_type": "code",
   "execution_count": 14,
   "id": "7a7fa7a1",
   "metadata": {},
   "outputs": [
    {
     "data": {
      "text/plain": [
       "array(['Unknown', 'Explosives', 'Incendiary', 'Firearms', 'Chemical',\n",
       "       'Melee', 'Sabotage Equipment',\n",
       "       'Vehicle (not to include vehicle-borne explosives, i.e., car or truck bombs)',\n",
       "       'Fake Weapons', 'Radiological', 'Other', 'Biological'],\n",
       "      dtype=object)"
      ]
     },
     "execution_count": 14,
     "metadata": {},
     "output_type": "execute_result"
    }
   ],
   "source": [
    "data.weaptype.unique()"
   ]
  },
  {
   "cell_type": "code",
   "execution_count": 15,
   "id": "b2869f17",
   "metadata": {},
   "outputs": [],
   "source": [
    "data.weaptype.replace({'Vehicle (not to include vehicle-borne explosives, i.e., car or truck bombs)': 'Explosive_vechile'},inplace=True)"
   ]
  },
  {
   "cell_type": "code",
   "execution_count": 16,
   "id": "c6116987",
   "metadata": {},
   "outputs": [
    {
     "data": {
      "text/plain": [
       "array(['Unknown', 'Explosives', 'Incendiary', 'Firearms', 'Chemical',\n",
       "       'Melee', 'Sabotage Equipment', 'Explosive_vechile', 'Fake Weapons',\n",
       "       'Radiological', 'Other', 'Biological'], dtype=object)"
      ]
     },
     "execution_count": 16,
     "metadata": {},
     "output_type": "execute_result"
    }
   ],
   "source": [
    "data.weaptype.unique()"
   ]
  },
  {
   "cell_type": "code",
   "execution_count": 17,
   "id": "242a427a",
   "metadata": {},
   "outputs": [
    {
     "data": {
      "text/plain": [
       "array(['Assassination', 'Hostage Taking (Kidnapping)',\n",
       "       'Bombing/Explosion', 'Facility/Infrastructure Attack',\n",
       "       'Armed Assault', 'Hijacking', 'Unknown', 'Unarmed Assault',\n",
       "       'Hostage Taking (Barricade Incident)'], dtype=object)"
      ]
     },
     "execution_count": 17,
     "metadata": {},
     "output_type": "execute_result"
    }
   ],
   "source": [
    "data.attacktype.unique()"
   ]
  },
  {
   "cell_type": "code",
   "execution_count": 18,
   "id": "3d7dea8c",
   "metadata": {},
   "outputs": [],
   "source": [
    "data.attacktype.replace({'Hostage Taking (Kidnapping)':'Kidnapping','Hostage Taking (Barricade Incident)': 'Barricade Incident'},inplace=True)"
   ]
  },
  {
   "cell_type": "code",
   "execution_count": 19,
   "id": "a75a64fe",
   "metadata": {},
   "outputs": [
    {
     "data": {
      "text/plain": [
       "array(['Assassination', 'Kidnapping', 'Bombing/Explosion',\n",
       "       'Facility/Infrastructure Attack', 'Armed Assault', 'Hijacking',\n",
       "       'Unknown', 'Unarmed Assault', 'Barricade Incident'], dtype=object)"
      ]
     },
     "execution_count": 19,
     "metadata": {},
     "output_type": "execute_result"
    }
   ],
   "source": [
    "data.attacktype.unique()"
   ]
  },
  {
   "cell_type": "code",
   "execution_count": 21,
   "id": "c8f9d2b7",
   "metadata": {},
   "outputs": [],
   "source": [
    "#replacing NAN values by 0\n",
    "data['wound']=data['wound'].fillna(0)\n",
    "data['kill']=data['kill'].fillna(0)"
   ]
  },
  {
   "cell_type": "code",
   "execution_count": 22,
   "id": "41989b97",
   "metadata": {},
   "outputs": [],
   "source": [
    "#dropping remaining NAN values \n",
    "data.dropna(inplace=True)"
   ]
  },
  {
   "cell_type": "code",
   "execution_count": 23,
   "id": "09eed75e",
   "metadata": {},
   "outputs": [
    {
     "data": {
      "text/plain": [
       "(96606, 26)"
      ]
     },
     "execution_count": 23,
     "metadata": {},
     "output_type": "execute_result"
    }
   ],
   "source": [
    "data.shape"
   ]
  },
  {
   "cell_type": "code",
   "execution_count": 24,
   "id": "3d415459",
   "metadata": {},
   "outputs": [],
   "source": [
    "#exporting the dataset \n",
    "data.to_csv(r'C:\\Users\\merlin\\Downloads\\Terr.csv')"
   ]
  },
  {
   "cell_type": "code",
   "execution_count": 1,
   "id": "19812e3c",
   "metadata": {},
   "outputs": [],
   "source": [
    "#EDA is done using tableau "
   ]
  },
  {
   "cell_type": "code",
   "execution_count": null,
   "id": "d2e8df8e",
   "metadata": {},
   "outputs": [],
   "source": []
  }
 ],
 "metadata": {
  "kernelspec": {
   "display_name": "Python 3",
   "language": "python",
   "name": "python3"
  },
  "language_info": {
   "codemirror_mode": {
    "name": "ipython",
    "version": 3
   },
   "file_extension": ".py",
   "mimetype": "text/x-python",
   "name": "python",
   "nbconvert_exporter": "python",
   "pygments_lexer": "ipython3",
   "version": "3.8.8"
  }
 },
 "nbformat": 4,
 "nbformat_minor": 5
}
